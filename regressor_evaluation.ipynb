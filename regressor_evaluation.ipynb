{
 "cells": [
  {
   "cell_type": "code",
   "execution_count": 1,
   "metadata": {},
   "outputs": [
    {
     "name": "stderr",
     "output_type": "stream",
     "text": [
      "/home/edherron/.conda/envs/diffusion/lib/python3.7/site-packages/tqdm/auto.py:22: TqdmWarning: IProgress not found. Please update jupyter and ipywidgets. See https://ipywidgets.readthedocs.io/en/stable/user_install.html\n",
      "  from .autonotebook import tqdm as notebook_tqdm\n"
     ]
    }
   ],
   "source": [
    "import os, torch\n",
    "import numpy as np\n",
    "from torch.utils import data\n",
    "import torch.nn as nn\n",
    "import torch.nn.functional as F\n",
    "from torchvision import transforms\n",
    "import scipy\n",
    "from scipy.stats import linregress, describe\n",
    "from tqdm import tqdm\n",
    "import matplotlib.pyplot as plt"
   ]
  },
  {
   "cell_type": "code",
   "execution_count": 2,
   "metadata": {},
   "outputs": [],
   "source": [
    "# Model class - pretrained regressor\n",
    "class JF_Net(nn.Module):\n",
    "\tdef __init__(self):\n",
    "\t\tsuper(JF_Net, self).__init__()\n",
    "\t\t#in_channel, out_channel, kernel_size, stride, padding=0 (default)\n",
    "\t\tself.conv1 = nn.Conv2d(1, 16, 9, 1) \n",
    "\t\tself.bn1 = nn.BatchNorm2d(16)\n",
    "\n",
    "\t\tself.conv2 = nn.Conv2d(16, 32, 9, 1)\n",
    "\t\tself.bn2 = nn.BatchNorm2d(32)\n",
    "\n",
    "\t\tself.dropout1 = nn.Dropout2d(0.3)\n",
    "\n",
    "\t\tself.fc1 = nn.Linear(21632, 1024)\n",
    "\t\tself.fc4 = nn.Linear(1024, 2)\n",
    "\n",
    "\tdef forward(self, x):\n",
    "\n",
    "\t\th = F.relu(self.conv1(x))\n",
    "\t\th = F.max_pool2d(h, kernel_size=2)\n",
    "\t\th = self.bn1(h)\n",
    "\n",
    "\t\th = F.relu(self.conv2(h))\n",
    "\t\th = F.max_pool2d(h, kernel_size=2)\n",
    "\t\th = self.bn2(h)\n",
    "\n",
    "\t\th = torch.flatten(h, start_dim=1) #flatten input of [bs, c, w, h], so from dim=1\n",
    "\t\th = F.relu(self.fc1(h))\n",
    "\t\th = self.dropout1(h)\n",
    "\t\th = F.relu(self.fc4(h))\n",
    "\t\th = h.squeeze() #squeezing to reduce dims from (64,1) to (64,) to match target\n",
    "\t\toutput = h\n",
    "\t\treturn output"
   ]
  },
  {
   "cell_type": "code",
   "execution_count": 3,
   "metadata": {},
   "outputs": [],
   "source": [
    "# Dataset class\n",
    "#loads dataset and convert to a iterable for JF data\n",
    "class NumpyDataset(data.Dataset):\n",
    "    def __init__(self, path):\n",
    "        super().__init__()\n",
    "        self.data = np.load(path, allow_pickle=True)\n",
    "        self.transform = transforms.Compose([transforms.ToTensor()])\n",
    "\n",
    "    def __getitem__(self, idx):\n",
    "        return (self.transform(np.float32(self.data[idx,0])),\n",
    "        \t\t np.float32(self.data[idx,1]),\n",
    "        \t\t np.float32(self.data[idx,2]))\n",
    "\n",
    "    def __len__(self):\n",
    "        return self.data.shape[0]\n",
    "\n",
    "#returns data loader\n",
    "def get_dataloader(path, batchsize):\n",
    "    ds = NumpyDataset(path)\n",
    "    dl = torch.utils.data.DataLoader(ds, batch_size=batchsize, drop_last=True, shuffle=True)\n",
    "    return dl"
   ]
  },
  {
   "cell_type": "code",
   "execution_count": 4,
   "metadata": {},
   "outputs": [],
   "source": [
    "data_path = '/data/Joshua/DARPA_data/augmented_JF_filtered_norm_test.npy'\n",
    "test_loader = get_dataloader(path='/data/Joshua/DARPA_data/augmented_JF_filtered_norm_test.npy', batchsize=32)"
   ]
  },
  {
   "cell_type": "code",
   "execution_count": 5,
   "metadata": {},
   "outputs": [],
   "source": [
    "# validation loop\n",
    "def eval_loop(val_dataloader, model, device):\n",
    "    model.eval()\n",
    "    J_preds, J_targets, ff_preds, ff_targets = [], [], [], []\n",
    "    for idx, (data, J, ff) in enumerate(val_dataloader):\n",
    "        data, J, ff = data.to(device), J.to(device), ff.to(device)\n",
    "\n",
    "        pred_j, pred_ff = model(data)\n",
    "\n",
    "        J_preds.append(pred_j)\n",
    "        J_targets.append(J)\n",
    "        ff_preds.append(pred_ff)\n",
    "        ff_targets.append(ff)\n",
    "\n",
    "    return J_preds, J_targets, ff_preds, ff_targets"
   ]
  },
  {
   "cell_type": "code",
   "execution_count": 6,
   "metadata": {},
   "outputs": [
    {
     "ename": "FileNotFoundError",
     "evalue": "[Errno 2] No such file or directory: '/data/EthanHerron/InvNets/TargetedMicrostructure/targeted_microstructure_Invnet/highFidelitiy_test_run/run_001/regressor.pt'",
     "output_type": "error",
     "traceback": [
      "\u001b[0;31m---------------------------------------------------------------------------\u001b[0m",
      "\u001b[0;31mFileNotFoundError\u001b[0m                         Traceback (most recent call last)",
      "\u001b[0;32m/tmp/ipykernel_27398/878427108.py\u001b[0m in \u001b[0;36m<module>\u001b[0;34m\u001b[0m\n\u001b[1;32m      3\u001b[0m \u001b[0;34m\u001b[0m\u001b[0m\n\u001b[1;32m      4\u001b[0m \u001b[0mmodel\u001b[0m \u001b[0;34m=\u001b[0m \u001b[0mJF_Net\u001b[0m\u001b[0;34m(\u001b[0m\u001b[0;34m)\u001b[0m\u001b[0;34m\u001b[0m\u001b[0;34m\u001b[0m\u001b[0m\n\u001b[0;32m----> 5\u001b[0;31m \u001b[0mmodel\u001b[0m\u001b[0;34m.\u001b[0m\u001b[0mload_state_dict\u001b[0m\u001b[0;34m(\u001b[0m\u001b[0mtorch\u001b[0m\u001b[0;34m.\u001b[0m\u001b[0mload\u001b[0m\u001b[0;34m(\u001b[0m\u001b[0;34m'/data/EthanHerron/InvNets/TargetedMicrostructure/targeted_microstructure_Invnet/highFidelitiy_test_run/run_001/regressor.pt'\u001b[0m\u001b[0;34m)\u001b[0m\u001b[0;34m)\u001b[0m\u001b[0;34m\u001b[0m\u001b[0;34m\u001b[0m\u001b[0m\n\u001b[0m\u001b[1;32m      6\u001b[0m \u001b[0mmodel\u001b[0m\u001b[0;34m.\u001b[0m\u001b[0meval\u001b[0m\u001b[0;34m(\u001b[0m\u001b[0;34m)\u001b[0m\u001b[0;34m\u001b[0m\u001b[0;34m\u001b[0m\u001b[0m\n\u001b[1;32m      7\u001b[0m \u001b[0mmodel\u001b[0m\u001b[0;34m.\u001b[0m\u001b[0mto\u001b[0m\u001b[0;34m(\u001b[0m\u001b[0mdevice\u001b[0m\u001b[0;34m)\u001b[0m\u001b[0;34m\u001b[0m\u001b[0;34m\u001b[0m\u001b[0m\n",
      "\u001b[0;32m~/.conda/envs/diffusion/lib/python3.7/site-packages/torch/serialization.py\u001b[0m in \u001b[0;36mload\u001b[0;34m(f, map_location, pickle_module, **pickle_load_args)\u001b[0m\n\u001b[1;32m    697\u001b[0m         \u001b[0mpickle_load_args\u001b[0m\u001b[0;34m[\u001b[0m\u001b[0;34m'encoding'\u001b[0m\u001b[0;34m]\u001b[0m \u001b[0;34m=\u001b[0m \u001b[0;34m'utf-8'\u001b[0m\u001b[0;34m\u001b[0m\u001b[0;34m\u001b[0m\u001b[0m\n\u001b[1;32m    698\u001b[0m \u001b[0;34m\u001b[0m\u001b[0m\n\u001b[0;32m--> 699\u001b[0;31m     \u001b[0;32mwith\u001b[0m \u001b[0m_open_file_like\u001b[0m\u001b[0;34m(\u001b[0m\u001b[0mf\u001b[0m\u001b[0;34m,\u001b[0m \u001b[0;34m'rb'\u001b[0m\u001b[0;34m)\u001b[0m \u001b[0;32mas\u001b[0m \u001b[0mopened_file\u001b[0m\u001b[0;34m:\u001b[0m\u001b[0;34m\u001b[0m\u001b[0;34m\u001b[0m\u001b[0m\n\u001b[0m\u001b[1;32m    700\u001b[0m         \u001b[0;32mif\u001b[0m \u001b[0m_is_zipfile\u001b[0m\u001b[0;34m(\u001b[0m\u001b[0mopened_file\u001b[0m\u001b[0;34m)\u001b[0m\u001b[0;34m:\u001b[0m\u001b[0;34m\u001b[0m\u001b[0;34m\u001b[0m\u001b[0m\n\u001b[1;32m    701\u001b[0m             \u001b[0;31m# The zipfile reader is going to advance the current file position.\u001b[0m\u001b[0;34m\u001b[0m\u001b[0;34m\u001b[0m\u001b[0;34m\u001b[0m\u001b[0m\n",
      "\u001b[0;32m~/.conda/envs/diffusion/lib/python3.7/site-packages/torch/serialization.py\u001b[0m in \u001b[0;36m_open_file_like\u001b[0;34m(name_or_buffer, mode)\u001b[0m\n\u001b[1;32m    228\u001b[0m \u001b[0;32mdef\u001b[0m \u001b[0m_open_file_like\u001b[0m\u001b[0;34m(\u001b[0m\u001b[0mname_or_buffer\u001b[0m\u001b[0;34m,\u001b[0m \u001b[0mmode\u001b[0m\u001b[0;34m)\u001b[0m\u001b[0;34m:\u001b[0m\u001b[0;34m\u001b[0m\u001b[0;34m\u001b[0m\u001b[0m\n\u001b[1;32m    229\u001b[0m     \u001b[0;32mif\u001b[0m \u001b[0m_is_path\u001b[0m\u001b[0;34m(\u001b[0m\u001b[0mname_or_buffer\u001b[0m\u001b[0;34m)\u001b[0m\u001b[0;34m:\u001b[0m\u001b[0;34m\u001b[0m\u001b[0;34m\u001b[0m\u001b[0m\n\u001b[0;32m--> 230\u001b[0;31m         \u001b[0;32mreturn\u001b[0m \u001b[0m_open_file\u001b[0m\u001b[0;34m(\u001b[0m\u001b[0mname_or_buffer\u001b[0m\u001b[0;34m,\u001b[0m \u001b[0mmode\u001b[0m\u001b[0;34m)\u001b[0m\u001b[0;34m\u001b[0m\u001b[0;34m\u001b[0m\u001b[0m\n\u001b[0m\u001b[1;32m    231\u001b[0m     \u001b[0;32melse\u001b[0m\u001b[0;34m:\u001b[0m\u001b[0;34m\u001b[0m\u001b[0;34m\u001b[0m\u001b[0m\n\u001b[1;32m    232\u001b[0m         \u001b[0;32mif\u001b[0m \u001b[0;34m'w'\u001b[0m \u001b[0;32min\u001b[0m \u001b[0mmode\u001b[0m\u001b[0;34m:\u001b[0m\u001b[0;34m\u001b[0m\u001b[0;34m\u001b[0m\u001b[0m\n",
      "\u001b[0;32m~/.conda/envs/diffusion/lib/python3.7/site-packages/torch/serialization.py\u001b[0m in \u001b[0;36m__init__\u001b[0;34m(self, name, mode)\u001b[0m\n\u001b[1;32m    209\u001b[0m \u001b[0;32mclass\u001b[0m \u001b[0m_open_file\u001b[0m\u001b[0;34m(\u001b[0m\u001b[0m_opener\u001b[0m\u001b[0;34m)\u001b[0m\u001b[0;34m:\u001b[0m\u001b[0;34m\u001b[0m\u001b[0;34m\u001b[0m\u001b[0m\n\u001b[1;32m    210\u001b[0m     \u001b[0;32mdef\u001b[0m \u001b[0m__init__\u001b[0m\u001b[0;34m(\u001b[0m\u001b[0mself\u001b[0m\u001b[0;34m,\u001b[0m \u001b[0mname\u001b[0m\u001b[0;34m,\u001b[0m \u001b[0mmode\u001b[0m\u001b[0;34m)\u001b[0m\u001b[0;34m:\u001b[0m\u001b[0;34m\u001b[0m\u001b[0;34m\u001b[0m\u001b[0m\n\u001b[0;32m--> 211\u001b[0;31m         \u001b[0msuper\u001b[0m\u001b[0;34m(\u001b[0m\u001b[0m_open_file\u001b[0m\u001b[0;34m,\u001b[0m \u001b[0mself\u001b[0m\u001b[0;34m)\u001b[0m\u001b[0;34m.\u001b[0m\u001b[0m__init__\u001b[0m\u001b[0;34m(\u001b[0m\u001b[0mopen\u001b[0m\u001b[0;34m(\u001b[0m\u001b[0mname\u001b[0m\u001b[0;34m,\u001b[0m \u001b[0mmode\u001b[0m\u001b[0;34m)\u001b[0m\u001b[0;34m)\u001b[0m\u001b[0;34m\u001b[0m\u001b[0;34m\u001b[0m\u001b[0m\n\u001b[0m\u001b[1;32m    212\u001b[0m \u001b[0;34m\u001b[0m\u001b[0m\n\u001b[1;32m    213\u001b[0m     \u001b[0;32mdef\u001b[0m \u001b[0m__exit__\u001b[0m\u001b[0;34m(\u001b[0m\u001b[0mself\u001b[0m\u001b[0;34m,\u001b[0m \u001b[0;34m*\u001b[0m\u001b[0margs\u001b[0m\u001b[0;34m)\u001b[0m\u001b[0;34m:\u001b[0m\u001b[0;34m\u001b[0m\u001b[0;34m\u001b[0m\u001b[0m\n",
      "\u001b[0;31mFileNotFoundError\u001b[0m: [Errno 2] No such file or directory: '/data/EthanHerron/InvNets/TargetedMicrostructure/targeted_microstructure_Invnet/highFidelitiy_test_run/run_001/regressor.pt'"
     ]
    }
   ],
   "source": [
    "use_cuda = torch.cuda.is_available()\n",
    "device = torch.device(\"cuda\" if use_cuda else \"cpu\")\n",
    "\n",
    "model = JF_Net()\n",
    "model.load_state_dict(torch.load('/data/EthanHerron/InvNets/TargetedMicrostructure/targeted_microstructure_Invnet/highFidelitiy_test_run/run_001/regressor.pt'))\n",
    "model.eval()\n",
    "model.to(device)"
   ]
  },
  {
   "cell_type": "code",
   "execution_count": null,
   "metadata": {},
   "outputs": [],
   "source": [
    "J_pred, J_true, ff_pred, ff_true = eval_loop(test_loader, model, device)\n",
    "J_pred = np.asarray(J_pred).astype('float32')\n",
    "J_true = np.asarray(J_true).astype('float32')\n",
    "slope, intercept, r_value, p_value, std_err = scipy.stats.linregress(J_true, J_pred)\n",
    "plt.figure(figsize=(10,10))\n",
    "a = plt.axes(aspect='equal')\n",
    "plt.scatter(J_true, J_pred)\n",
    "plt.xlabel('J-True Values')\n",
    "plt.ylabel('J-Predictions')\n",
    "lims = [0, max(J_pred)+1]\n",
    "plt.xlim(lims)\n",
    "plt.ylim(lims)\n",
    "plt.plot(J_true, (intercept + slope*J_true[:]), label = \"R-squared for fill: %f\" % r_value**2)\n",
    "plt.legend()\n",
    "plt.plot(lims, lims)\n",
    "# plt.savefig(os.path.join(argsp.model_dir, 'J_R2_plot.jpg'))\n",
    "\n",
    "ff_pred = np.asarray(ff_pred).astype('float32')\n",
    "ff_true = np.asarray(ff_true).astype('float32')\n",
    "slope, intercept, r_value, p_value, std_err = scipy.stats.linregress(ff_true, ff_pred)\n",
    "plt.figure(figsize=(10,10))\n",
    "a = plt.axes(aspect='equal')\n",
    "plt.scatter(ff_true, ff_pred)\n",
    "plt.xlabel('$FF$-True Values')\n",
    "plt.ylabel('$FF$-Predictions')\n",
    "lims = [0, max(ff_pred)+1]\n",
    "plt.xlim(lims)\n",
    "plt.ylim(lims)\n",
    "plt.plot(J_true, (intercept + slope*J_true[:]), label = \"R-squared for fill: %f\" % r_value**2)\n",
    "plt.legend()\n",
    "plt.plot(lims, lims)\n",
    "# plt.savefig(os.path.join(argsp.model_dir, 'FF_R2_plot.jpg'))"
   ]
  }
 ],
 "metadata": {
  "kernelspec": {
   "display_name": "Python 3.7.13 ('diffusion')",
   "language": "python",
   "name": "python3"
  },
  "language_info": {
   "codemirror_mode": {
    "name": "ipython",
    "version": 3
   },
   "file_extension": ".py",
   "mimetype": "text/x-python",
   "name": "python",
   "nbconvert_exporter": "python",
   "pygments_lexer": "ipython3",
   "version": "3.7.13"
  },
  "orig_nbformat": 4,
  "vscode": {
   "interpreter": {
    "hash": "98bdd58f625c20e19d54d0a42bcc3c988fe9cc074a20eb358833c7d0680efc7d"
   }
  }
 },
 "nbformat": 4,
 "nbformat_minor": 2
}
