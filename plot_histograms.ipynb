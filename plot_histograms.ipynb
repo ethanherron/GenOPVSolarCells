{
 "cells": [
  {
   "cell_type": "code",
   "execution_count": 1,
   "metadata": {},
   "outputs": [],
   "source": [
    "import numpy as np\n",
    "import matplotlib.pyplot as plt\n",
    "from einops import rearrange"
   ]
  },
  {
   "cell_type": "code",
   "execution_count": 7,
   "metadata": {},
   "outputs": [
    {
     "name": "stdout",
     "output_type": "stream",
     "text": [
      "(9645, 1, 128, 128)\n",
      "(9645, 1, 128, 128)\n",
      "(9645, 1, 128, 128)\n"
     ]
    }
   ],
   "source": [
    "ground_truth = np.load('/data/EthanHerron/data/material_microstructures/validation_microstructures.npz')['arr_0']\n",
    "diffusion = np.load('/data/EthanHerron/GenerativeModeling/UnconditionalDiffusion/results_inference/diffusion/validation_microstructures_diffusion.npz')['arr_0']\n",
    "wgan = np.load('/data/EthanHerron/GenerativeModeling/UnconditionalDiffusion/results_inference/wgan/validation_microstructures_wgan.npz')['arr_0']\n",
    "print(ground_truth.shape)\n",
    "print(diffusion.shape)\n",
    "print(wgan.shape)"
   ]
  },
  {
   "cell_type": "code",
   "execution_count": 30,
   "metadata": {},
   "outputs": [],
   "source": [
    "ground_truth_mean = np.mean(ground_truth, axis=(1,2,3))\n",
    "diffusion_mean = np.mean(diffusion, axis=(1,2,3))\n",
    "wgan_mean = np.mean(wgan, axis=(1,2,3))\n"
   ]
  },
  {
   "cell_type": "code",
   "execution_count": 36,
   "metadata": {},
   "outputs": [
    {
     "name": "stdout",
     "output_type": "stream",
     "text": [
      "(3, 9645)\n",
      "(9645, 3)\n"
     ]
    }
   ],
   "source": [
    "x = np.array([ground_truth_mean, diffusion_mean, wgan_mean])\n",
    "print(x.shape)\n",
    "x = rearrange(x, 'c u -> u c')\n",
    "print(x.shape)"
   ]
  },
  {
   "cell_type": "code",
   "execution_count": 48,
   "metadata": {},
   "outputs": [
    {
     "data": {
      "image/png": "[encoded data removed]",
      "text/plain": [
       "<Figure size 432x288 with 1 Axes>"
      ]
     },
     "metadata": {
      "needs_background": "light"
     },
     "output_type": "display_data"
    },
    {
     "data": {
      "text/plain": [
       "<Figure size 432x288 with 0 Axes>"
      ]
     },
     "metadata": {},
     "output_type": "display_data"
    }
   ],
   "source": [
    "n_bins = 10\n",
    "\n",
    "plt.figure()\n",
    "colors = ['red', 'blue', 'lime']\n",
    "labels = ['XDD', 'Diffusion', 'WGAN']\n",
    "plt.hist(x, n_bins, density=True, histtype='bar', color=colors, label=labels)\n",
    "plt.legend(prop={'size': 10})\n",
    "\n",
    "plt.legend()\n",
    "plt.show()\n",
    "plt.savefig('./images/volumefraction_histogram.png')"
   ]
  },
  {
   "cell_type": "code",
   "execution_count": 16,
   "metadata": {},
   "outputs": [
    {
     "name": "stdout",
     "output_type": "stream",
     "text": [
      "(9644,)\n",
      "(9644,)\n",
      "(9644,)\n"
     ]
    }
   ],
   "source": [
    "ground_truth_ff = np.load('./results_inference/Jff_computations/ff_groundtruth.npz')['arr_0']\n",
    "diffusion_ff = np.load('./results_inference/Jff_computations/ff_diffusion.npz')['arr_0']\n",
    "wgan_ff = np.load('./results_inference/Jff_computations/ff_wgan.npz')['arr_0']\n",
    "print(ground_truth_ff.shape)\n",
    "print(diffusion_ff.shape)\n",
    "print(wgan_ff.shape)"
   ]
  },
  {
   "cell_type": "code",
   "execution_count": 17,
   "metadata": {},
   "outputs": [
    {
     "name": "stdout",
     "output_type": "stream",
     "text": [
      "(3, 9644)\n",
      "(9644, 3)\n"
     ]
    }
   ],
   "source": [
    "x = np.array([ground_truth_ff, diffusion_ff, wgan_ff])\n",
    "print(x.shape)\n",
    "x = rearrange(x, 'c u -> u c')\n",
    "print(x.shape)"
   ]
  },
  {
   "cell_type": "code",
   "execution_count": 18,
   "metadata": {},
   "outputs": [
    {
     "data": {
      "image/png": "[encoded data removed]",
      "text/plain": [
       "<Figure size 432x288 with 1 Axes>"
      ]
     },
     "metadata": {
      "needs_background": "light"
     },
     "output_type": "display_data"
    },
    {
     "data": {
      "text/plain": [
       "<Figure size 432x288 with 0 Axes>"
      ]
     },
     "metadata": {},
     "output_type": "display_data"
    }
   ],
   "source": [
    "n_bins = 10\n",
    "\n",
    "plt.figure()\n",
    "colors = ['red', 'blue', 'lime']\n",
    "labels = ['XDD', 'Diffusion', 'WGAN']\n",
    "plt.hist(x, n_bins, density=True, histtype='bar', color=colors, label=labels)\n",
    "plt.legend(prop={'size': 10})\n",
    "\n",
    "plt.legend()\n",
    "plt.show()\n",
    "plt.savefig('./images/ffpredictions_histogram.png')"
   ]
  },
  {
   "cell_type": "code",
   "execution_count": 19,
   "metadata": {},
   "outputs": [
    {
     "name": "stdout",
     "output_type": "stream",
     "text": [
      "(9644,)\n",
      "(9644,)\n",
      "(9644,)\n"
     ]
    }
   ],
   "source": [
    "ground_truth_J = np.load('./results_inference/Jff_computations/J_groundtruth.npz')['arr_0']\n",
    "diffusion_J = np.load('./results_inference/Jff_computations/J_diffusion.npz')['arr_0']\n",
    "wgan_J = np.load('./results_inference/Jff_computations/J_wgan.npz')['arr_0']\n",
    "print(ground_truth_J.shape)\n",
    "print(diffusion_J.shape)\n",
    "print(wgan_J.shape)"
   ]
  },
  {
   "cell_type": "code",
   "execution_count": 20,
   "metadata": {},
   "outputs": [
    {
     "name": "stdout",
     "output_type": "stream",
     "text": [
      "(3, 9644)\n",
      "(9644, 3)\n"
     ]
    }
   ],
   "source": [
    "y = np.array([ground_truth_J, diffusion_J, wgan_J])\n",
    "print(y.shape)\n",
    "y = rearrange(y, 'c u -> u c')\n",
    "print(y.shape)"
   ]
  },
  {
   "cell_type": "code",
   "execution_count": 21,
   "metadata": {},
   "outputs": [
    {
     "data": {
      "image/png": "[encoded data removed]",
      "text/plain": [
       "<Figure size 432x288 with 1 Axes>"
      ]
     },
     "metadata": {
      "needs_background": "light"
     },
     "output_type": "display_data"
    },
    {
     "data": {
      "text/plain": [
       "<Figure size 432x288 with 0 Axes>"
      ]
     },
     "metadata": {},
     "output_type": "display_data"
    }
   ],
   "source": [
    "n_bins = 10\n",
    "\n",
    "plt.figure()\n",
    "colors = ['red', 'blue', 'lime']\n",
    "labels = ['XDD', 'Diffusion', 'WGAN']\n",
    "plt.hist(y, n_bins, density=True, histtype='bar', color=colors, label=labels)\n",
    "plt.legend(prop={'size': 10})\n",
    "\n",
    "plt.legend()\n",
    "plt.show()\n",
    "plt.savefig('./images/Jpredictions_histogram.png')"
   ]
  },
  {
   "cell_type": "code",
   "execution_count": null,
   "metadata": {},
   "outputs": [],
   "source": []
  }
 ],
 "metadata": {
  "kernelspec": {
   "display_name": "Python 3.7.13 ('diffusion')",
   "language": "python",
   "name": "python3"
  },
  "language_info": {
   "codemirror_mode": {
    "name": "ipython",
    "version": 3
   },
   "file_extension": ".py",
   "mimetype": "text/x-python",
   "name": "python",
   "nbconvert_exporter": "python",
   "pygments_lexer": "ipython3",
   "version": "3.7.13"
  },
  "orig_nbformat": 4,
  "vscode": {
   "interpreter": {
    "hash": "98bdd58f625c20e19d54d0a42bcc3c988fe9cc074a20eb358833c7d0680efc7d"
   }
  }
 },
 "nbformat": 4,
 "nbformat_minor": 2
}
